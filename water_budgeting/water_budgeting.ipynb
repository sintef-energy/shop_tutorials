{
 "cells": [
  {
   "cell_type": "markdown",
   "metadata": {},
   "source": [
    "<style>\n",
    "th {\n",
    "  font-size: 14px\n",
    "}\n",
    "td {\n",
    "  font-size: 14px\n",
    "}\n",
    "</style>"
   ]
  },
  {
   "cell_type": "markdown",
   "metadata": {},
   "source": [
    "# Water budgeting"
   ]
  },
  {
   "cell_type": "markdown",
   "metadata": {},
   "source": [
    "# Introduction\n",
    "\n",
    "It is possible to run a simulation in SHOP with reservoir storage volume\n",
    "or height as input, and in return get the inflow that would have\n",
    "resulted in the given storage level. This document describes the\n",
    "additional data and commands related to the inflow simulation. See the\n",
    "main documentation for the simulator in SHOP for a complete description\n",
    "of that functionality.\n",
    "\n",
    "# Input data \n",
    "\n",
    "The main additional input for the inflow simulation is the storage level\n",
    "for each reservoir. It can either be given in Mm3 or in masl. If there\n",
    "are creek intakes in the system, and\n",
    "inflow\n",
    "\n",
    "| **Object type** | **Attribute name**        | **Data type** | **Description**                                                                                                                                                                                                                                                                                                                                                                                                                                                                                            |\n",
    "| --------------- | ------------------------- | ------------- | ---------------------------------------------------------------------------------------------------------------------------------------------------------------------------------------------------------------------------------------------------------------------------------------------------------------------------------------------------------------------------------------------------------------------------------------------------------------------------------------------------------- |\n",
    "| Reservoir       | sim\\_inflow\\_flag         | TXY           | This flag turns inflow simulation on or off for individual reservoirs. The global /inflow option to the \"start shopsim\"-command is still needed to activate the inflow simulation functionality. If this flag series is not given, the default behavior is that inflow will be simulated for all reservoirs. If this flag is set to 0, the corresponding reservoir will be simulated with inflow taken from the \"inflow\" TXY series as input, and the resulting reservoir storage will be given as output. |\n",
    "| Reservoir       | storage                   | TXY           | Storage level in Mm3 used as basis for inflow calculation. If both head and storage are given, the storage is used as basis for the calculation.                                                                                                                                                                                                                                                                                                                                                           |\n",
    "| Reservoir       | head                      | TXY           | Storage level in masl used as basis for inflow calculation. If both head and storage are given, the storage is used as basis for the calculation.                                                                                                                                                                                                                                                                                                                                                          |\n",
    "| Creek intake    | sim\\_inflow\\_flag         | TXY           | This flag turns inflow simulation on or off for individual creek intakes. The global /inflow option to the \"start shopsim\"-command is still needed to activate the inflow simulation functionality. If this flag series is not given, the default behavior is that inflow will be simulated for all creek intakes. If this flag is set to 0, the corresponding creek intake will be simulated with inflow taken from the \"inflow\" TXY series as input.                                                     |\n",
    "| Creek intake    | pressure\\_height          | TXY           | If there exists data for measurement of the pressure height (in masl) of creek intakes, this TXY can be used as input to the simulation. The pressure balance and resulting inflow to the creek intake will be calculated based on the pressure\\_height measurement.                                                                                                                                                                                                                                       |\n",
    "| Creek intake    | inflow\\_percentage        | TXY           | If the inflow to the creek intake is assumed to be a percentage of the inflow to the reservoir above, this TXY can be used to set this percentage.                                                                                                                                                                                                                                                                                                                                                         |\n",
    "| Creek intake    | reservoir\\_pressure\\_flag | TXY           | If the creek intake tunnel is assumed to have the same pressure height as the reservoir directly above the creek intake, this TXY can be set to 1 to indicated this.                                                                                                                                                                                                                                                                                                                                       |\n",
    "\n",
    "If neither pressure\\_height, inflow\\_percentage nor\n",
    "reservoir\\_pressure\\_flag is set for a creek intake, the inflow is\n",
    "calculated based on the assumption that the creek intake has the same\n",
    "pressure height as the reservoir above.\n",
    "\n",
    "# Commands \n",
    "\n",
    "The only command that affects the inflow simulation is the \"start\n",
    "shopsim\" command. By adding the option /inflow after that command, the\n",
    "inflow simulation is activated in the SHOP\n",
    "simulator.\n",
    "\n",
    "| **Command**   | **Options**                                                                                 | **Comment**                                                                                                                                                                                                                                                          |\n",
    "| ------------- | ------------------------------------------------------------------------------------------- | -------------------------------------------------------------------------------------------------------------------------------------------------------------------------------------------------------------------------------------------------------------------- |\n",
    "| start shopsim | /gen\\_mw\\_schedule, /gen\\_m3s\\_schedule, /plant\\_mw\\_schedule, /gen\\_m3s\\_schedule, /inflow | Run simulation. The inflow option activates the inflow simulation in the SHOP simulator. Default behavior is that all inflow will be simulated for all reservoirs and creek intakes when this option is set. See main simulator documentation for the other options. |\n",
    "\n",
    "# Result data\n",
    "\n",
    "The simulator calculates the physical behaviour of the system given the\n",
    "input schedules, but also reports the economical value of the schedule.\n",
    "\n",
    "The time series in the table below are returned as physical results from\n",
    "the\n",
    "simulation.\n",
    "\n",
    "| **Object type** | **Attribute name** | **Data type** | **Description**                                                                                                                                                                                                                                                                                                                                                                                                                                           |\n",
    "| --------------- | ------------------ | ------------- | --------------------------------------------------------------------------------------------------------------------------------------------------------------------------------------------------------------------------------------------------------------------------------------------------------------------------------------------------------------------------------------------------------------------------------------------------------- |\n",
    "| Reservoir       | sim\\_inflow        | TXY           | Resulting inflow calculated by the simulator. The inflow is calculated for each timestep as the sum of end storage minus start storage plus water discharged from the reservoir through plants and gates minus water discharged into the reservoir through plants and gates                                                                                                                                                                               |\n",
    "| Creek intake    | sim\\_inflow        | TXY           | Resulting inflow calculated by the simulator. The inflow is calculated as the sum of discharge to the plant below the creek intake minus flow from the reservoir above the creek intake. The distribution between creek intake inflow and reservoir inflow is found by establishing a pressure- and mass balance in the junction between the creek intake and the main tunnel. The options for controlling this balance are described above in section 2. |\n"
   ]
  },
  {
   "cell_type": "markdown",
   "metadata": {},
   "source": [
    "## Examples\n",
    "\n",
    "Examples available for water budgeting.\n"
   ]
  }
 ],
 "metadata": {
  "kernelspec": {
   "display_name": "Python 3",
   "language": "python",
   "name": "python3"
  },
  "language_info": {
   "codemirror_mode": {
    "name": "ipython",
    "version": 3
   },
   "file_extension": ".py",
   "mimetype": "text/x-python",
   "name": "python",
   "nbconvert_exporter": "python",
   "pygments_lexer": "ipython3",
   "version": "3.7.9"
  },
  "widgets": {
   "application/vnd.jupyter.widget-state+json": {
    "state": {},
    "version_major": 2,
    "version_minor": 0
   }
  }
 },
 "nbformat": 4,
 "nbformat_minor": 4
}
