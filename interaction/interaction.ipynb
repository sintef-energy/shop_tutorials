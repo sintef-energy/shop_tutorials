{
 "cells": [
  {
   "cell_type": "markdown",
   "metadata": {},
   "source": [
    "# Interacting with SHOP"
   ]
  },
  {
   "cell_type": "markdown",
   "metadata": {},
   "source": [
    "While the main functionality of SHOP lies in the SHOP core, several libraries are implemented for interacting with it. In this document the following ways of interaction are described.\n",
    "\n",
    "- [Proprietary (ASCII) interaction](#Proprietary_ascii_interaction)\n",
    "- [YAML interaction](#Yaml_interaction)\n",
    "- [pyshop interaction](#Pyshop_interaction)\n",
    "- [OpenAPI interaction](#Openapi_interaction)\n",
    "- [C++ API interaction](#Cpp_api_interaction)\n",
    "- [Python API interaction](#Python_api_interaction)\n",
    "\n",
    "Proprietary **ASCII** file formats used to be the only way for sending data to the SHOP core and getting results back. After introduction of the SHOP API, several open standards for interacting with the SHOP core have been added. Currently, the **pyshop** python wrapper has gained popularity among users, students and developers. The new **YAML** file format is included as an open standard alternative to the ASCII format. All functionality in SHOP is accessible by any of these three ways of interacting with the core. By accessing the SHOP core through the API, as is done in pyshop and for YAML, all data that is loaded into the SHOP core can also be retrieved and stored."
   ]
  },
  {
   "cell_type": "markdown",
   "metadata": {},
   "source": [
    "<img src=\"./img/shop_api.png\">"
   ]
  },
  {
   "cell_type": "markdown",
   "metadata": {},
   "source": [
    "## Proprietary (ASCII) interaction <a name=\"Proprietary_ascii_interaction\"></a>\n",
    "\n",
    "The proprietary interaction with SHOP is done by a set of **command**-files, **input data**-files and **output result**-files. The command files control which files are read into the SHOP core, which processing is done in the core, and which results files that are written from the SHOP core. Commands can also be entered directly in the built-in SHOP command interpreter. Input data files can include any of the <a href=\"https://shop.sintef.energy/documentation/reference/ascii-reference/\" target=\"_parent\">ASCII data formats. </a>.\n",
    "\n",
    "Commands are written in the format\n",
    "\n",
    "command /(option1) /(option2) (object1) (object2)\n",
    "    \n",
    "Valid commands and related options and objects are found in the <a href=\"https://shop.sintef.energy/documentation/reference/commands/\" target=\"_parent\">online command reference table. </a>\n",
    "\n",
    "ASCII files can be read directly by the SHOP core compiled as a standalone executable, or sent to the SHOP core via any of the APIs, either as a string or as a path to a file."
   ]
  },
  {
   "cell_type": "markdown",
   "metadata": {},
   "source": [
    "## YAML interaction <a name=\"Yaml_interaction\"></a>\n",
    "\n",
    "All input data, output data and commands are part of the same YAML structure. This structure is explained in the <a href=\"https://shop.sintef.energy/documentation/reference/shop-yaml-standard/\" target=\"_parent\">SHOP YAML standard. </a>\n",
    "YAML files can be read and written directly by the SHOP core compiled as a standalone executable, or sent and retrieved via any of the APIs as strings."
   ]
  },
  {
   "cell_type": "markdown",
   "metadata": {},
   "source": [
    "## pyshop interaction <a name=\"Pyshop_interaction\"></a>\n",
    "\n",
    "Pyshop is a wrapper in python written on top of the SHOP python API. It makes interacting with the SHOP core more efficient by providing helpful classes and functions to exchange data and execute commands. The data handling in pyshop uses the python pandas package in most cases.\n",
    "\n",
    "The typical workflow in pyshop starts by creating a ShopSession and defining the optimization time and resolution. Next, the topology is added before time-dependent data is generated or loaded from files or a database. When all data is sent to the SHOP core, commands for optimization are executed before results are extracted."
   ]
  },
  {
   "cell_type": "markdown",
   "metadata": {},
   "source": [
    "## OpenAPI interaction <a name=\"Openapi_interaction\"></a>\n",
    "\n",
    "The OpenAPI is a way of interacting with SHOP when it is hosted as a web service. The figure below shows the session-based structure. It is integrated with all API data by respective endpoints for **commands**, **connections**, **time**, **object_type**, **object_name** and **attribute**."
   ]
  },
  {
   "cell_type": "markdown",
   "metadata": {},
   "source": [
    "<img src=\"./img/shop_openapi.png\">"
   ]
  },
  {
   "cell_type": "markdown",
   "metadata": {},
   "source": [
    "## C++ API interaction <a name=\"Cpp_api_interaction\"></a>\n",
    "\n",
    "Not published yet."
   ]
  },
  {
   "cell_type": "markdown",
   "metadata": {},
   "source": [
    "## Python API interaction <a name=\"Python_api_interaction\"></a>\n",
    "\n",
    "Not published yet."
   ]
  }
 ],
 "metadata": {
  "kernelspec": {
   "display_name": "Python 3",
   "language": "python",
   "name": "python3"
  },
  "language_info": {
   "codemirror_mode": {
    "name": "ipython",
    "version": 3
   },
   "file_extension": ".py",
   "mimetype": "text/x-python",
   "name": "python",
   "nbconvert_exporter": "python",
   "pygments_lexer": "ipython3",
   "version": "3.7.9"
  },
  "widgets": {
   "application/vnd.jupyter.widget-state+json": {
    "state": {},
    "version_major": 2,
    "version_minor": 0
   }
  }
 },
 "nbformat": 4,
 "nbformat_minor": 4
}
