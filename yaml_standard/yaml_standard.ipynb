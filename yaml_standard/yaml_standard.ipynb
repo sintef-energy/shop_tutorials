{
 "cells": [
  {
   "cell_type": "markdown",
   "metadata": {},
   "source": [
    "# SHOP YAML Standard"
   ]
  },
  {
   "cell_type": "markdown",
   "metadata": {},
   "source": [
    "- [YAML types](#Yaml_types)\n",
    "  - [Map](#Map)\n",
    "    - [Map example](#Map_example)\n",
    "  - [List](#List)\n",
    "    - [List example](#List_example)\n",
    "  - [Scalar](#Scalar)\n",
    "    - [Integer](#Integer)\n",
    "    - [Double](#Double)\n",
    "  - [String](#String)\n",
    "    - [Timestamp](#Timestamp)\n",
    "- [SHOP YAML case](#Shop_yaml)\n",
    "  - [time](#Time)\n",
    "    - [time example](#Time_example)\n",
    "  - [model](#Model)\n",
    "    - [model example](#Model_example)\n",
    "  - [connections](#Connections)\n",
    "    - [connections example](#Connections_example)\n",
    "  - [commands](#Commands)\n",
    "    - [commands example](#Commands_example)\n",
    "- [SHOP attribute type formats](#Shop_attribute)\n",
    "  - [int](#Int_shop)\n",
    "  - [double](#Double_shop)\n",
    "  - [int_array](#Int_array)\n",
    "  - [double_array](#Double_array)\n",
    "  - [xy](#Xy)\n",
    "  - [xy_array](#Xy_array)\n",
    "  - [txy](#Txy)\n",
    "  - [txy(stochastic)](#Txy_stochastic)"
   ]
  },
  {
   "cell_type": "markdown",
   "metadata": {},
   "source": [
    "## YAML types <a name=\"Yaml_types\"></a>\n",
    "In order to simplify descriptions of the SHOP YAML standard, we start off with defining a set of terms for referring to different YAML constructs."
   ]
  },
  {
   "cell_type": "markdown",
   "metadata": {},
   "source": [
    "### Map <a name=\"Map\"></a>\n",
    "Maps are one of the most common components for structuring data stored in YAML. They often appear in the upper levels of the documents and serve the purpose of dividing the data into smaller named subgroups/divisions. We will refer to them as “Maps”, but you should note that they are also often referred to as Dictionaries. Essentially, maps consist of a set of \"key\" and \"value\" pairs. Each key is said to \"refer to\" or \"contain\" a value. In this standard, keys will **always** be “strings”, i.e. one or more characters/words stringed together. Values, on the other hand, can contain a single scalar, a string or another structuring component like Map or List"
   ]
  },
  {
   "cell_type": "markdown",
   "metadata": {},
   "source": [
    "#### Map example <a name=\"Map_example\"></a>\n",
    "The following example is extracted from a real SHOP YAML case and contains three distict examples of YAML Maps. The upper level is a Map containing the keys \"Reservoir1\" and \"Reservoir2\". Each key contains additional Maps with the keys \"start_head\", \"max_vol\", \"lrl\", \"hrl\" and \"vol_head\". Furthermore, the keys \"vol_head\" contains Maps with the keys \"ref\", \"x\" and \"y\". \n",
    "\n",
    "Note that the key and value is separated by a “:”. The value may be written just after “: ”, which is the case for keys like \"start_head\", \"max_vol\" and \"ref\". For more complex values, it is common to add line breaks and indentation, as you can see keys like \"Reservoir1\", \"vol_head\" and \"x\".\n",
    "        \n",
    "    Reservoir1:\n",
    "      start_head: 92\n",
    "      max_vol: 12\n",
    "      lrl: 90\n",
    "      hrl: 100\n",
    "      vol_head:\n",
    "        ref: 0\n",
    "        x:\n",
    "          - 0\n",
    "          - 12\n",
    "          - 14\n",
    "        y:\n",
    "          - 90\n",
    "          - 100\n",
    "          - 101\n",
    "    Reservoir2:\n",
    "      start_head: 43\n",
    "      max_vol: 5\n",
    "      lrl: 40\n",
    "      hrl: 50\n",
    "      vol_head:\n",
    "        ref: 0\n",
    "        x:\n",
    "          - 0\n",
    "          - 5\n",
    "          - 6\n",
    "        y:\n",
    "          - 40\n",
    "          - 50\n",
    "          - 51"
   ]
  },
  {
   "cell_type": "markdown",
   "metadata": {},
   "source": [
    "### List <a name=\"List\"></a>\n",
    "Lists are another common construct that can be used for structuring. Each value of a list, like the values of maps, can contain a scalar, a string or another structuring component like a Map or a List"
   ]
  },
  {
   "cell_type": "markdown",
   "metadata": {},
   "source": [
    "### List example <a name=\"List_example\"></a>\n",
    "The following example is extracted from a real SHOP YAML case and contains two distict examples of YAML Lists. The value of the \"connections\" key is a List of Maps and the value of the \"commands\" key is a List of strings.\n",
    "\n",
    "Note that each element of the list is preceded by a “-” and for every new element, a line break is added. Also note that despite only having a single value, the value of \"commands\" is still formatted as a list. It is common to keep the List format when the list happens to have a single value, in order to simplify reading/loading the YAML.\n",
    "\n",
    "    connections:\n",
    "      - from: Reservoir1\n",
    "        to: Plant1\n",
    "      - from: Plant1_G1\n",
    "        to: Plant1\n",
    "      - from: Plant1\n",
    "        to: Reservoir2\n",
    "      - from: Reservoir2\n",
    "        to: Plant2\n",
    "      - from: Plant2_G1\n",
    "        to: Plant2\n",
    "    commands:\n",
    "      - start sim 1\n",
    "\n"
   ]
  },
  {
   "cell_type": "markdown",
   "metadata": {},
   "source": [
    "### Scalar <a name=\"Scalar\"></a>\n",
    "Scalars contain a single numeric value. In this standard, we deal with two different types of scalars, “integers” and “doubles”"
   ]
  },
  {
   "cell_type": "markdown",
   "metadata": {},
   "source": [
    "#### Integer <a name=\"Integer\"></a>\n",
    "Some attributes expect integer values, that is, numbers without any fractional parts.\n",
    "\n",
    "**NOTE**: Numbers written with decimal points are typically not accepted as integers even if the fractional part is 0\n",
    "\n",
    "    plant:\n",
    "      Plant1:\n",
    "        time_delay: 0     # \"time_delay\" is a Int attribute within SHOP\n",
    "        ownership: 100    # NOTE: Ownership is a Double attribute within SHOP, YAML will typically omit \".0\""
   ]
  },
  {
   "cell_type": "markdown",
   "metadata": {},
   "source": [
    "#### Double <a name=\"Double\"></a>\n",
    "Some attributes expect double values, that is, numbers with fractional parts. Unlike the converse for integers, it is common to accept numbers written without decimal points as doubles.\n",
    "\n",
    "All the numerical values in the following YAML will be interpreted as doubles by SHOP because they refer to attributes that only deal with double values. Note that the values with \".0\" fractional parts have been encoded as integers.\n",
    "\n",
    "    Reservoir1:\n",
    "      start_vol: 0\n",
    "      start_head: 92.2\n",
    "      max_vol: 12\n",
    "      lrl: 90.5\n",
    "      hrl: 100.5\n",
    "      vol_head:\n",
    "        ref: 0\n",
    "        x:\n",
    "          - 0\n",
    "          - 12\n",
    "          - 14\n",
    "        y:\n",
    "          - 90\n",
    "          - 100\n",
    "          - 101"
   ]
  },
  {
   "cell_type": "markdown",
   "metadata": {},
   "source": [
    "### String <a name=\"String\"></a>\n",
    "Strings are a common data type in programming and are essentially strings of characters/words. In YAML, strings can be written with or without quotes. Both “ and ‘ can be used as quotation marks, but you need to close the quote with the same quotation mark it was opened with.\n",
    "\n",
    "**Note** that it is common to omit quotation unless they are needed to avoid ambiguity, which is the case for the vast majority of string. String representations of numbers is an example of a class of strings that do need quotation to retain their string nature\n",
    "\n",
    "    connections:\n",
    "    - from: Reservoir1\n",
    "      to: Plant1\n",
    "      from_type: reservoir\n",
    "      to_type: plant\n",
    "      connection_type: connection_standard\n",
    "      order: 0\n",
    "    - from: \"Plant1_G1\"                      # Note: The original example dropped quotation for all strings\n",
    "      to: 'Plant1'                           # And you would most likely not mix quotation types\n",
    "      from_type: generator\n",
    "      to_type: \"plant\"\n",
    "      connection_type: 'connection_standard'\n",
    "      order: 1\n",
    "    "
   ]
  },
  {
   "cell_type": "markdown",
   "metadata": {},
   "source": [
    "#### Timestamp <a name=\"Timestamp\"></a>\n",
    "A typical SHOP YAML case will typically contain many strings representing timestamps. Timestamps are used when setting optimization start and end time and the time index of every time series (TODO). Shop expects the format “YYYY-mm-dd HH-MM-ss”.\n",
    "\n",
    "    time:\n",
    "      starttime: 2018-02-27 00:00:00    # Note: the time part can be omitted because it is 00:00:00\n",
    "      endtime: 2018-02-28 00:00:00\n",
    "      timeunit: hour\n",
    "      timeresolution:\n",
    "        2018-02-27 00:00:00: 1"
   ]
  },
  {
   "cell_type": "markdown",
   "metadata": {},
   "source": [
    "## SHOP YAML case <a name=\"Shop_yaml\"></a>\n",
    "SHOP YAML case consist of four different types of content.\n",
    "\n",
    "YAML case :\n",
    "\n",
    "- time\n",
    "- model\n",
    "- connections\n",
    "- commands\n",
    "\n",
    "There are currently two different ways of defining a YAML case :\n",
    "\n",
    "- Split up the data in 4 different files, named after the data they house, e.g. “time.yaml”\n",
    "  - External python class is also capable of reading a ZipCase, which is these 4 files zipped together\n",
    "- Put everything in the same file/string, where the upper level is a Map with keys for the 4 different types of content"
   ]
  },
  {
   "cell_type": "markdown",
   "metadata": {},
   "source": [
    "## time <a name=\"Time\"></a>\n",
    "The \"time\" part contains the optimization time definition. The upper level is a [Map](#Map) with the mandatory keys “starttime”, “endtime” and “timeunit”.\n",
    "\n",
    "“starttime” and “endtime” both expect [timestamp strings](#Timestamp).\n",
    "\n",
    "“timeunit” can be either “minute” or “hour”.\n",
    "\n",
    "The upper level map of this can also have the optional key “timeresolution”. If present, \"timeresolution\" contains a [Txy](#Txy) specifying the time resolution throughout the optimization time."
   ]
  },
  {
   "cell_type": "markdown",
   "metadata": {},
   "source": [
    "#### time example <a name=\"Time_example\"></a>\n",
    "\n",
    "    time:\n",
    "      starttime: 2018-02-27 00:00:00\n",
    "      endtime: 2018-02-28 00:00:00\n",
    "      timeunit: hour\n",
    "      timeresolution:\n",
    "        2018-02-27 00:00:00: 1"
   ]
  },
  {
   "cell_type": "markdown",
   "metadata": {},
   "source": [
    "### model <a name=\"Model\"></a>\n",
    "The \"model\" part defines all objects and attributes defined/set in the SHOP model as well as the values of the defined attributes. The upper three levels of this part are nested [Maps](#Map).\n",
    "\n",
    "The uppermost level, referred to as the “object type level”, is a map with keys for each object type present in the case.\n",
    "\n",
    "The next level, referred to as the “object name level”, consists of a set of maps with keys for each distinct object in the case. So the uppermost level map might have a map under the key “reservoir”, which in turn have maps under “Reservoir1” and “Reservoir2”\n",
    "\n",
    "The third level, referred to as the “attribute name level”, consists of a set of maps with keys for each defined attributes of its parent object in the case. So the second level map “Reservoir1”, under the uppermost key “reservoir”, might contain the keys “lrl”, “hrl” etc\n",
    "\n",
    "At the fourth level, the structure and content is defined by the attribute type that is represented. Details can be found in [SHOP attribute type formats](#Shop_attribute)"
   ]
  },
  {
   "cell_type": "markdown",
   "metadata": {},
   "source": [
    "### model example <a name=\"Model_example\"></a>\n",
    "The following example is based on a real SHOP YAML case where some attributes and objects have been omitted to give a better overview:\n",
    "\n",
    "    model:\n",
    "      reservoir:\n",
    "        Reservoir1:\n",
    "          lrl: 90\n",
    "          hrl: 100\n",
    "          vol_head:\n",
    "            ref: 0\n",
    "            x:\n",
    "              - 0\n",
    "              - 12\n",
    "              - 14\n",
    "            y:\n",
    "              - 90\n",
    "              - 100\n",
    "              - 101\n",
    "          inflow:\n",
    "            2018-02-27 00:00:00: 101\n",
    "            2018-02-27 01:00:00: 50\n",
    "        Reservoir2:\n",
    "          lrl: 40\n",
    "          hrl: 50\n",
    "      plant:\n",
    "        Plant1:\n",
    "          less_distribution_eps: 0.001\n",
    "          main_loss:\n",
    "            - 0.0002\n",
    "          penstock_loss:\n",
    "            - 0.0001\n",
    "        Plant2:\n",
    "          less_distribution_eps: 0.001\n",
    "          main_loss:\n",
    "            - 0.0002\n",
    "          penstock_loss:\n",
    "            - 0.0001\n",
    "      generator:\n",
    "        Plant1_G1:\n",
    "          p_min: 25\n",
    "          p_max: 100\n",
    "          p_nom: 100\n",
    "          turb_eff_curves:\n",
    "            - ref: 90\n",
    "              x:\n",
    "                - 25\n",
    "                - 90\n",
    "                - 100\n",
    "              y:\n",
    "                - 80\n",
    "                - 95\n",
    "                - 90\n",
    "            - ref: 100\n",
    "              x:\n",
    "                - 25\n",
    "                - 90\n",
    "                - 100\n",
    "              y:\n",
    "                - 82\n",
    "                - 98\n",
    "                - 92\n",
    "          startcost:\n",
    "            2018-02-27 00:00:00: 500"
   ]
  },
  {
   "cell_type": "markdown",
   "metadata": {},
   "source": [
    "### connections <a name=\"Connections\"></a>\n",
    "The \"connections\" part contains information about how the objects in the case are connected. This content is made up of a [List](#List) of [Maps](#Map), where each map is a fully describes what SHOP needs to recreate the connection.\n",
    "\n",
    "The full connection format is quite verbose, however, you can often omit specific information. See the table below for details\n",
    "\n",
    "|Keys|Mandatory|Situational Description|Description|\n",
    "|-|-|-|-|\n",
    "|\"to\", \"from\"|Always|Always needed|Names of to/from objects respectively|\n",
    "|\"to_type\", \"from_type\"|Situational|Needed when object names are ambiguous. E.g. a plant and a generator has the same name|Types of to/from objects respectively|\n",
    "|\"connection_type\"|Situational|Only needed when connecting a **reservoir** to a \"spill\" or \"bypass\" **gate**|Specification of connection type|\n",
    "|\"order\"|Situational|Needed when connection order matters. Currently only needed for connections to **junction** or to **junction_gate**|Integer indicating connection order. \"0\" will be connected before \"1\", \"1\" before \"2\" and so on|"
   ]
  },
  {
   "cell_type": "markdown",
   "metadata": {},
   "source": [
    "#### connections example <a name=\"Connections_example\"></a>\n",
    "The following example is constructed to illustrate the most relevant use-cases.\n",
    "\n",
    "    connections:\n",
    "    - from: Reservoir1                     # Verbose connection\n",
    "      to: Plant1\n",
    "      from_type: reservoir\n",
    "      to_type: plant\n",
    "      connection_type: connection_standard\n",
    "      order: 0\n",
    "      \n",
    "    - from: Reservoir2                     # Simplified connection: Requires non-ambiguos object names\n",
    "      to: Plant2\n",
    "      \n",
    "    - from: Reservoir3                     # Connections to Junctions require \"order\"\n",
    "      to: Junction2\n",
    "      order: 0\n",
    "    - from: Junction1\n",
    "      to: Junction2\n",
    "      order: 1\n",
    "      \n",
    "    - from: Reservoir4                     # Spill and Bypass gates are defined by specifying \"connection_type\"\n",
    "      to: Gate1\n",
    "      connection_type: connection_spill\n"
   ]
  },
  {
   "cell_type": "markdown",
   "metadata": {},
   "source": [
    "### commands <a name=\"Commands\"></a>\n",
    "The \"commands\" part contains all SHOP commands executed in the case. The upper level of this file is a [List](#List) of strings. The command format is identical to the one used in the SHOP executable (TODO)."
   ]
  },
  {
   "cell_type": "markdown",
   "metadata": {},
   "source": [
    "#### commands example <a name=\"Commands_example\"></a>\n",
    "\n",
    "    commands:\n",
    "      - start sim 1 \n",
    "      - set code /incremental\n",
    "      - start sim 3"
   ]
  },
  {
   "cell_type": "markdown",
   "metadata": {},
   "source": [
    "## SHOP attribute type formats <a name=\"Shop_attribute\"></a>\n",
    "Each SHOP attribute has a designated \"type\". The type is determined by how the attribute is used and specifies what kind of data is stored within the attribute. This section describes the format of the different SHOP attribute types when stored in YAML."
   ]
  },
  {
   "cell_type": "markdown",
   "metadata": {},
   "source": [
    "### int <a name=\"Int_shop\"></a>\n",
    "Represented by a single [Integer](#Integer). Remember to rafrain from adding a decimal point.\n",
    "\n",
    "    plant:\n",
    "      Plant1:\n",
    "        time_delay: 0           # int attribute example\n",
    "    "
   ]
  },
  {
   "cell_type": "markdown",
   "metadata": {},
   "source": [
    "### double <a name=\"Double_shop\"></a>\n",
    "Represented by a single [Double](#Double).\n",
    "\n",
    "    reservoir:\n",
    "      Reservoir1:\n",
    "        lrl: 90.2               # double attribute example"
   ]
  },
  {
   "cell_type": "markdown",
   "metadata": {},
   "source": [
    "### string <a name=\"String\"></a>\n",
    "Represented by a single [String](#String).\n",
    "\n",
    "    market:\n",
    "      Market1:\n",
    "        market_type: ENERGY     # string attribute example"
   ]
  },
  {
   "cell_type": "markdown",
   "metadata": {},
   "source": [
    "### int_array <a name=\"Int_array\"></a>\n",
    "Represented by a [List](#List) of [Integers](#Int_shop). Remember to rafrain from adding a decimal points.\n",
    "\n",
    "    plant:\n",
    "      Plant1:\n",
    "        gen_priority:           # int_array attribute example\n",
    "          - 1\n",
    "          - 2"
   ]
  },
  {
   "cell_type": "markdown",
   "metadata": {},
   "source": [
    "### double_array <a name=\"Double_array\"></a>\n",
    "Represented by a [List](#List) of [Doubles](#Double_shop).\n",
    "\n",
    "    plant:\n",
    "      Plant1:\n",
    "        main_loss:              # double_array attribute example \n",
    "          - 0.0002"
   ]
  },
  {
   "cell_type": "markdown",
   "metadata": {},
   "source": [
    "### xy <a name=\"Xy\"></a>\n",
    "Represented by a [Map](#Map) with the mandatory keys \"x\", \"y\" and \"ref\".\n",
    "\n",
    "Keys \"x\" and \"y\" both contain [double_arrays](#Double_array).\n",
    "\n",
    "\"ref\" contains a [Double](#Double_shop).\n",
    "\n",
    "\n",
    "    reservoir:\n",
    "      Reservoir1:\n",
    "        vol_head:               # xy attribute example\n",
    "          ref: 0\n",
    "          x:\n",
    "            - 0\n",
    "            - 12\n",
    "            - 14\n",
    "          y:\n",
    "            - 90\n",
    "            - 100\n",
    "            - 101"
   ]
  },
  {
   "cell_type": "markdown",
   "metadata": {},
   "source": [
    "### xy_array <a name=\"Xy_array\"></a>\n",
    "Represented by a [List](#List) of [Xy](#Xy).\n",
    "\n",
    "    plant:\n",
    "      Plant1:\n",
    "        turb_eff_curves:        # xy_array attribute example\n",
    "          - ref: 90\n",
    "            x:\n",
    "              - 25\n",
    "              - 90\n",
    "              - 100\n",
    "            y:\n",
    "              - 80\n",
    "              - 95\n",
    "              - 90\n",
    "          - ref: 100\n",
    "            x:\n",
    "              - 25\n",
    "              - 90\n",
    "              - 100\n",
    "            y:\n",
    "              - 82\n",
    "              - 98\n",
    "              - 92"
   ]
  },
  {
   "cell_type": "markdown",
   "metadata": {},
   "source": [
    "### txy <a name=\"Txy\"></a>\n",
    "Represented by a [Map](#Map) of [Doubles](#Double_shop). The keys are [Timestamps](#Timestamp) and make out the time index\n",
    "\n",
    "**Note**: A different format is required for multi-scenario txy, [txy(stochastic)](#Txy_stochastic)\n",
    "\n",
    "    reservoir:\n",
    "      Reservoir1:\n",
    "        inflow:                      # txy attribute example \n",
    "          2018-02-27 00:00:00: 101\n",
    "          2018-02-27 01:00:00: 50"
   ]
  },
  {
   "cell_type": "markdown",
   "metadata": {},
   "source": [
    "### txy(stochastic) <a name=\"Txy_stochastic\"></a>\n",
    "Represented by a [Map](#Map) of [strings](#String). The first key and value make out a \"header\".\n",
    "\n",
    "The first key is \"         Scenario#\". The first value is not really important, but for the sake of clarity in the file you might want to use it to enumerate the scenarios. E.g. \" 1 2 3 4 5 6\" if there are six scenarios.\n",
    "\n",
    "The remaining keys are all [Timestamps](#Timestamp).\n",
    "\n",
    "The remaining values are [strings](#String) that can be split on whitespace and cast to double in order to get one value for each scenario.\n",
    "\n",
    "    market:\n",
    "      Market1:\n",
    "        sale_price:              # txy (stochastic) attribute example\n",
    "          \"         Scenario #\": \"    1    2    3    4    5    6    7    8    9   10   11   12\"\n",
    "          \"2018-02-27 00:00:00\": \"   39   39   39   39   39   39   39   39   39   39   39   39\"\n",
    "          \"2018-02-27 01:00:00\": \" 38.5   39 39.5   40 38.5   39 39.5   40 38.5   39 39.5   40\""
   ]
  }
 ],
 "metadata": {
  "kernelspec": {
   "display_name": "Python 3",
   "language": "python",
   "name": "python3"
  },
  "language_info": {
   "codemirror_mode": {
    "name": "ipython",
    "version": 3
   },
   "file_extension": ".py",
   "mimetype": "text/x-python",
   "name": "python",
   "nbconvert_exporter": "python",
   "pygments_lexer": "ipython3",
   "version": "3.7.9"
  }
 },
 "nbformat": 4,
 "nbformat_minor": 2
}
