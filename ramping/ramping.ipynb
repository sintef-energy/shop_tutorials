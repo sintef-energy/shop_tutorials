{
 "cells": [
  {
   "cell_type": "markdown",
   "metadata": {},
   "source": [
    "<style>\n",
    "th {\n",
    "  font-size: 14px\n",
    "}\n",
    "td {\n",
    "  font-size: 14px\n",
    "}\n",
    "</style>"
   ]
  },
  {
   "cell_type": "markdown",
   "metadata": {},
   "source": [
    "# Ramping"
   ]
  },
  {
   "cell_type": "markdown",
   "metadata": {},
   "source": [
    "## Standard ramping functionality\n",
    "\n",
    "The standard ramping functionality in SHOP enables the user to set an upper limit on the change of a variable between two consecutive timesteps. Different limits can be set for maximum up-ramping (increase in variable value between two timesteps) and maximum down-ramping (decrease in variable value between two timesteps). In addition, a penalty cost may be given for breaking the ramping constraint. The table below gives an overview of the variable types that can have ramping restrictions. \n",
    "\n",
    "|Object type|Variable|Direction|Ramping attribute|Unit|Global penalty|Object penalty|\n",
    "|-|-|-|-|-|-|-|\n",
    "|Reservoir|volume|up|volume_ramping_up|Mm$^3$/h|volume_ramping_penalty_cost||\n",
    "|Reservoir|volume|down|volume_ramping_down|Mm$^3$/h|volume_ramping_penalty_cost||\n",
    "|Reservoir|level|up|level_ramping_up|m/h|level_ramping_penalty_cost||\n",
    "|Reservoir|level|down|level_ramping_down|m/h|level_ramping_penalty_cost||\n",
    "|Plant|production|up|production_ramping_up|MW/h|production_ramp_penalty_cost||\n",
    "|Plant|production|down|production_ramping_down|MW/h|production_ramp_penalty_cost||\n",
    "|Plant|discharge|up|discharge_ramping_up|m3s/h|production_ramp_penalty_cost||\n",
    "|Plant|discharge|down|discharge_ramping_down|m3s/h|production_ramp_penalty_cost||\n",
    "|Gate|discharge|up|discharge_ramping_up|m3s/h|gate_ramp_penalty_cost|ramp_penalty_cost|\n",
    "|Gate|discharge|down|discharge_ramping_down|m3s/h|gate_ramp_penalty_cost|ramp_penalty_cost|\n",
    "|Contract|outtake|up|ramping_up|MW/h||ramping_penalty_cost_up|\n",
    "|Contract|outtake|down|ramping_down|MW/h||ramping_penalty_cost_down|\n",
    "\n",
    "As seen from the units, max ramping is specified per hour. If the timestep length is different than one hour, the max ramping value will be scaled accordingly by the model to keep the limit per hour constant.\n",
    "\n",
    "## Special ramping functionality\n",
    "\n",
    "### Reservoir\n",
    "\n",
    "#### Non-sequential volume ramping\n",
    "\n",
    "Non-sequential ramping consists of two input TXY-series. The first, **nonseq_ramping_steplength**, indicates how many timesteps the ramping restriction spans. The second, **nonseq_ramping_limit**, indicates the maximum ramping allowed between the start and end timestep. As an example, nonseq_ramping_steplength is set to the constant value of 24, and the optimization time resolution is measured in hours. The nonseq_ramping_limit is set to 0.1 for 01.01.2021 00h00, 0.2 for 02.01.2021 00h00 and 0.3 for 03.01.2021 00h00. This results in six ramping restrictions being added to the problem, as shown in the table below.\n",
    "\n",
    "|Start time|End time|Max ramping|\n",
    "|-|-|-|\n",
    "|01.01.2021 00h00|02.01.2021 00h00|0.1 Mm$^3$|\n",
    "|02.01.2021 00h00|03.01.2021 00h00|0.2 Mm$^3$|\n",
    "|03.01.2021 00h00|04.01.2021 00h00|0.3 Mm$^3$|\n",
    "\n",
    "If a timestep in the nonseq_ramping_steplength series is given a value of 0, it means that there is no ramping constraint from that timestep.\n",
    "\n",
    "#### Amplitude volume ramping\n",
    "\n",
    "Amplitude ramping consists of two input TXY-series. The first, **amplitude_ramping_duration**, indicates how many timesteps the ramping restriction lasts. The second, **amplitude_ramping_limit**, indicates the maximum ramping allowed between the start and each of the timesteps in the duration. As an example, amplitude_ramping_duration is set to the constant value of 2, and the optimization time resolution is measured in hours. The amplitude_ramping_limit is set to 0.1 for 01.01.2021 00h00, 0.2 for 01.01.2021 02h00 and 0.3 for 01.01.2021 04h00. This results in six ramping restrictions being added to the problem, as shown in the table below.\n",
    "\n",
    "|Start time|End time|Max ramping|\n",
    "|-|-|-|\n",
    "|01.01.2021 00h00|01.01.2021 01h00|0.1 Mm$^3$|\n",
    "|01.01.2021 00h00|01.01.2021 02h00|0.1 Mm$^3$|\n",
    "|01.01.2021 02h00|01.01.2021 03h00|0.2 Mm$^3$|\n",
    "|01.01.2021 02h00|01.01.2021 04h00|0.2 Mm$^3$|\n",
    "|01.01.2021 04h00|01.01.2021 05h00|0.3 Mm$^3$|\n",
    "|01.01.2021 04h00|01.01.2021 06h00|0.3 Mm$^3$|\n",
    "\n",
    "If a timestep in the amplitude_ramping_duration series is given a value of 0, it means that there is no ramping constraint from that timestep.\n",
    "\n",
    "### Contract\n",
    "\n",
    "#### Max capacity on ramping violation\n",
    "\n",
    "A maximum limit on the violation of ramping restrictions on contracts can be set by the attributes **ramping_penalty_capacity_up** and **ramping_penalty_capacity_down**."
   ]
  },
  {
   "cell_type": "markdown",
   "metadata": {},
   "source": [
    "## Examples\n",
    "\n",
    "Examples available for ramping.\n"
   ]
  }
 ],
 "metadata": {
  "kernelspec": {
   "display_name": "Python 3",
   "language": "python",
   "name": "python3"
  },
  "language_info": {
   "codemirror_mode": {
    "name": "ipython",
    "version": 3
   },
   "file_extension": ".py",
   "mimetype": "text/x-python",
   "name": "python",
   "nbconvert_exporter": "python",
   "pygments_lexer": "ipython3",
   "version": "3.7.9"
  },
  "widgets": {
   "application/vnd.jupyter.widget-state+json": {
    "state": {},
    "version_major": 2,
    "version_minor": 0
   }
  }
 },
 "nbformat": 4,
 "nbformat_minor": 4
}
